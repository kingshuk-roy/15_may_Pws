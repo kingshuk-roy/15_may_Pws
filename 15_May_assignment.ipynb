{
  "nbformat": 4,
  "nbformat_minor": 0,
  "metadata": {
    "colab": {
      "provenance": []
    },
    "kernelspec": {
      "name": "python3",
      "display_name": "Python 3"
    },
    "language_info": {
      "name": "python"
    }
  },
  "cells": [
    {
      "cell_type": "code",
      "execution_count": 7,
      "metadata": {
        "colab": {
          "base_uri": "https://localhost:8080/",
          "height": 53
        },
        "id": "DB74sfBEmI5g",
        "outputId": "03150aae-55c9-4cee-fc8b-e6a74fbd81bc"
      },
      "outputs": [
        {
          "output_type": "execute_result",
          "data": {
            "text/plain": [
              "'India or ‘Republic of India’ is a peninsular country in Asia i.e. it is surrounded by water from three sides.\\nIndia is the seventh largest country in the world with 7 neighbouring countries.'"
            ],
            "application/vnd.google.colaboratory.intrinsic+json": {
              "type": "string"
            }
          },
          "metadata": {},
          "execution_count": 7
        }
      ],
      "source": [
        "#Q1. How do you comment code in Python? What are the different types of comments?\n",
        "\n",
        "\"\"\"There are basicaly two type of comment code avialable in python. one is  Single-Line Comments and another is Multi-Line Comments in python\"\"\" \n",
        "# Single-Line Comments in Python   (Here we can use '#' or wecan use \"\"\")\n",
        "# Multi-Line Comments in Python    (Here we can use only \"\"\")\n",
        "\n",
        "\"\"\"India or ‘Republic of India’ is a peninsular country in Asia i.e. it is surrounded by water from three sides.\n",
        "India is the seventh largest country in the world with 7 neighbouring countries.\"\"\"  # so here the example of Multiline comments using string literals\n",
        "\n",
        "\n",
        "\n"
      ]
    },
    {
      "cell_type": "code",
      "source": [
        "#Q2. What are variables in Python? How do you declare and assign values to variables?\n",
        "\n",
        "\"\"\"\n",
        "Variables= Variables are containers for storing data values.\n",
        "A Python variable name must start with a letter or the underscore character.\n",
        "A Python variable name cannot start with a number.\n",
        "A Python variable name can only contain alpha-numeric characters and underscores (A-z, 0-9, and _ ).\n",
        "Variable in Python names are case-sensitive (name, Name, and NAME are three different variables).\"\"\"\n",
        "#Example:\n",
        "var=\"PWSkills_Data science_2.0\"\n",
        "print(var)\n",
        "type(var)\n"
      ],
      "metadata": {
        "colab": {
          "base_uri": "https://localhost:8080/"
        },
        "id": "EqkiZafsVIgr",
        "outputId": "4ca6dc82-b973-48c4-cc6e-008d5928469b"
      },
      "execution_count": 8,
      "outputs": [
        {
          "output_type": "stream",
          "name": "stdout",
          "text": [
            "PWSkills_Data science_2.0\n"
          ]
        },
        {
          "output_type": "execute_result",
          "data": {
            "text/plain": [
              "str"
            ]
          },
          "metadata": {},
          "execution_count": 8
        }
      ]
    },
    {
      "cell_type": "code",
      "source": [
        "#Q3. How do you convert one data type to another in Python?\n",
        "\n",
        "l1=[0,1,5,3,6,9,8,7,21,22,14,54]    # Here l1 is List data type.\n",
        "s1=\"l1\"                            # Here s1 is the variable and assign the l1 as string type data.\n",
        "type(s1)"
      ],
      "metadata": {
        "colab": {
          "base_uri": "https://localhost:8080/"
        },
        "id": "fdze857sXAr7",
        "outputId": "2924308d-eae5-418a-cc88-f8a0419b7149"
      },
      "execution_count": 9,
      "outputs": [
        {
          "output_type": "execute_result",
          "data": {
            "text/plain": [
              "str"
            ]
          },
          "metadata": {},
          "execution_count": 9
        }
      ]
    },
    {
      "cell_type": "code",
      "source": [
        "#Q4. How do you write and execute a Python script from the command line?\n",
        "\n",
        "\n",
        "\"\"\"Open a text editor and create a new file. You can use only text editor you prefer, such as Notepad,sublime text, or Visual Studio Code.\n",
        "write your python code in the text editor,saving the file with a .py extension. for example, you could save the file as myscript.py.\n",
        "Open a command prompt on terminal winwod.\n",
        "Navigate to the directory where you saved your Python script using the 'cd' command\"\"\"\n"
      ],
      "metadata": {
        "id": "_zBGKGncaZRw",
        "colab": {
          "base_uri": "https://localhost:8080/",
          "height": 70
        },
        "outputId": "53406d8c-690c-46de-83d9-3b0eacc490f5"
      },
      "execution_count": 18,
      "outputs": [
        {
          "output_type": "execute_result",
          "data": {
            "text/plain": [
              "\"Open a text editor and create a new file. You can use only text editor you prefer, such as Notepad,sublime text, or Visual Studio Code.\\nwrite your python code in the text editor,saving the file with a .py extension. for example, you could save the file as myscript.py.\\nOpen a command prompt on terminal winwod.\\nNavigate to the directory where you saved your Python script using the 'cd' command\""
            ],
            "application/vnd.google.colaboratory.intrinsic+json": {
              "type": "string"
            }
          },
          "metadata": {},
          "execution_count": 18
        }
      ]
    },
    {
      "cell_type": "code",
      "source": [
        "# Q5. Given a list my_list = [1, 2, 3, 4, 5], write the code to slice the list and obtain the sub-list [2, 3].\n",
        "my_list = [1, 2, 3, 4, 5]\n",
        "sub_list=my_list[1:3]\n",
        "print(sub_list)"
      ],
      "metadata": {
        "id": "JGif5iMzalZj",
        "colab": {
          "base_uri": "https://localhost:8080/"
        },
        "outputId": "272ddbfe-cd96-4b2f-e376-85071d62e347"
      },
      "execution_count": 11,
      "outputs": [
        {
          "output_type": "stream",
          "name": "stdout",
          "text": [
            "[2, 3]\n"
          ]
        }
      ]
    },
    {
      "cell_type": "code",
      "source": [
        "#Q6. What is a complex number in mathematics, and how is it represented in Python?\n",
        "\n",
        "\"\"\"Copmlex number= Complex numbers are the numbers that are expressed in the form of a+ib where, \n",
        "a,b are real numbers and 'i' is an imaginary number called “iota”.\n",
        " The value of i = (√-1). For example, 2+3i is a complex number, where 2 is a real number and 3i is an imaginary number\"\"\"\n",
        " # In python it is represented as 'j' , Example: 2+5j\n",
        "\n",
        "a=2+5j\n",
        "type(a)"
      ],
      "metadata": {
        "colab": {
          "base_uri": "https://localhost:8080/"
        },
        "id": "zK4zsMe9arJD",
        "outputId": "a2441f45-7785-4f63-a647-ddd694baa876"
      },
      "execution_count": 12,
      "outputs": [
        {
          "output_type": "execute_result",
          "data": {
            "text/plain": [
              "complex"
            ]
          },
          "metadata": {},
          "execution_count": 12
        }
      ]
    },
    {
      "cell_type": "code",
      "source": [
        "# Q7. What is the correct way to declare a variable named age and assign the value 25 to it?\n",
        "\n",
        "age=25\n",
        "type(age)"
      ],
      "metadata": {
        "colab": {
          "base_uri": "https://localhost:8080/"
        },
        "id": "TjHx2HANcofc",
        "outputId": "47c9feca-e055-4fdd-c3ff-8ebbbaeb4060"
      },
      "execution_count": 13,
      "outputs": [
        {
          "output_type": "execute_result",
          "data": {
            "text/plain": [
              "int"
            ]
          },
          "metadata": {},
          "execution_count": 13
        }
      ]
    },
    {
      "cell_type": "code",
      "source": [
        "# Q8. Declare a variable named price and assign the value 9.99 to it. What data type does this variable belong to?\n",
        "\n",
        "price=9.99\n",
        "type(price)"
      ],
      "metadata": {
        "colab": {
          "base_uri": "https://localhost:8080/"
        },
        "id": "KzWszypsf8g1",
        "outputId": "25a5ea5d-2c74-45d1-9491-ea63eb645444"
      },
      "execution_count": 14,
      "outputs": [
        {
          "output_type": "execute_result",
          "data": {
            "text/plain": [
              "float"
            ]
          },
          "metadata": {},
          "execution_count": 14
        }
      ]
    },
    {
      "cell_type": "code",
      "source": [
        "#Q9. Create a variable named name and assign your full name to it as a string. How would you print the value of this variable?\n",
        "name= \"Kingshuk Roy\"\n"
      ],
      "metadata": {
        "id": "BL6FBQ6kgbQn"
      },
      "execution_count": 15,
      "outputs": []
    },
    {
      "cell_type": "code",
      "source": [
        "# Q10. Given the string \"Hello, World!\", extract the substring \"World\".\n",
        "s1=\"Hello, World!\"\n",
        "sub_string=s1[7:12]\n",
        "print(sub_string)"
      ],
      "metadata": {
        "colab": {
          "base_uri": "https://localhost:8080/"
        },
        "id": "TrUZLYmpkvFG",
        "outputId": "5c8088ea-c346-42cd-c10f-312c7d406d1f"
      },
      "execution_count": 16,
      "outputs": [
        {
          "output_type": "stream",
          "name": "stdout",
          "text": [
            "World\n"
          ]
        }
      ]
    },
    {
      "cell_type": "code",
      "source": [
        "# Q11. Create a variable named \"is_student\" and assign it a boolean value indicating whether you are currently a student or not.\n",
        "is_student = input(\"Enter boolean value: \")\n",
        "is_student = is_student.lower() == \"true\"\n",
        "\n",
        "if is_student == True:\n",
        "  print('Student')\n",
        "elif is_student == False:\n",
        "  print('not')\n",
        "print(type(is_student))\n",
        "is_student"
      ],
      "metadata": {
        "id": "3w90IHiUlkcB",
        "colab": {
          "base_uri": "https://localhost:8080/"
        },
        "outputId": "63440ec3-1421-42a2-ed45-def80cebf3d2"
      },
      "execution_count": 17,
      "outputs": [
        {
          "output_type": "stream",
          "name": "stdout",
          "text": [
            "Enter boolean value: False\n",
            "not\n",
            "<class 'bool'>\n"
          ]
        },
        {
          "output_type": "execute_result",
          "data": {
            "text/plain": [
              "False"
            ]
          },
          "metadata": {},
          "execution_count": 17
        }
      ]
    }
  ]
}